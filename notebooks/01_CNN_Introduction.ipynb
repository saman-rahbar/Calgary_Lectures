{
 "cells": [
  {
   "cell_type": "markdown",
   "id": "b2245110",
   "metadata": {},
   "source": [
    "# Introduction to Convolutional Neural Networks (CNNs)\n",
    "    \n",
    "This notebook provides a comprehensive introduction to Convolutional Neural Networks (CNNs), their architecture, and implementation in PyTorch."
   ]
  },
  {
   "cell_type": "markdown",
   "id": "76f67253",
   "metadata": {},
   "source": [
    "## What are CNNs?\n",
    "    \n",
    "Convolutional Neural Networks (CNNs) are a specialized type of neural network designed for processing grid-like data, such as images. They are particularly effective at capturing spatial relationships in data through the use of convolutional layers."
   ]
  },
  {
   "cell_type": "markdown",
   "id": "20b0c4e3",
   "metadata": {},
   "source": [
    "## Key Components of CNNs\n",
    "    \n",
    "1. **Convolutional Layers**: Apply filters to input data to detect features\n",
    "2. **Pooling Layers**: Reduce spatial dimensions of the data\n",
    "3. **Activation Functions**: Introduce non-linearity\n",
    "4. **Fully Connected Layers**: Make final predictions"
   ]
  },
  {
   "cell_type": "code",
   "execution_count": null,
   "id": "9a7f6e6f",
   "metadata": {},
   "outputs": [],
   "source": [
    "import numpy as np\n",
    "\n",
    "def simple_convolution(image, kernel):\n",
    "    # Get dimensions\n",
    "    i_height, i_width = image.shape\n",
    "    k_height, k_width = kernel.shape\n",
    "    \n",
    "    # Calculate output dimensions\n",
    "    o_height = i_height - k_height + 1\n",
    "    o_width = i_width - k_width + 1\n",
    "    \n",
    "    # Initialize output\n",
    "    output = np.zeros((o_height, o_width))\n",
    "    \n",
    "    # Perform convolution\n",
    "    for i in range(o_height):\n",
    "        for j in range(o_width):\n",
    "            output[i, j] = np.sum(image[i:i+k_height, j:j+k_width] * kernel)\n",
    "    \n",
    "    return output\n",
    "\n",
    "# Example usage\n",
    "image = np.array([[1, 1, 1, 0, 0],\n",
    "                  [0, 1, 1, 1, 0],\n",
    "                  [0, 0, 1, 1, 1],\n",
    "                  [0, 0, 1, 1, 0],\n",
    "                  [0, 1, 1, 0, 0]])\n",
    "\n",
    "kernel = np.array([[1, 0, 1],\n",
    "                   [0, 1, 0],\n",
    "                   [1, 0, 1]])\n",
    "\n",
    "result = simple_convolution(image, kernel)\n",
    "print(\"Convolution result:\")\n",
    "print(result)"
   ]
  },
  {
   "cell_type": "code",
   "execution_count": null,
   "id": "cea2dd3d",
   "metadata": {},
   "outputs": [],
   "source": [
    "import torch\n",
    "import torch.nn as nn\n",
    "import torch.nn.functional as F\n",
    "\n",
    "class SimpleCNN(nn.Module):\n",
    "    def __init__(self):\n",
    "        super(SimpleCNN, self).__init__()\n",
    "        self.conv1 = nn.Conv2d(1, 16, kernel_size=3, padding=1)\n",
    "        self.pool = nn.MaxPool2d(2, 2)\n",
    "        self.conv2 = nn.Conv2d(16, 32, kernel_size=3, padding=1)\n",
    "        self.fc1 = nn.Linear(32 * 7 * 7, 128)\n",
    "        self.fc2 = nn.Linear(128, 10)\n",
    "        \n",
    "    def forward(self, x):\n",
    "        x = self.pool(F.relu(self.conv1(x)))\n",
    "        x = self.pool(F.relu(self.conv2(x)))\n",
    "        x = x.view(-1, 32 * 7 * 7)\n",
    "        x = F.relu(self.fc1(x))\n",
    "        x = self.fc2(x)\n",
    "        return x\n",
    "\n",
    "# Create model instance\n",
    "model = SimpleCNN()\n",
    "print(model)"
   ]
  },
  {
   "cell_type": "markdown",
   "id": "ff9520e9",
   "metadata": {},
   "source": [
    "## Training Process\n",
    "    \n",
    "1. **Forward Pass**: Input data flows through the network\n",
    "2. **Loss Calculation**: Compare predictions with ground truth\n",
    "3. **Backward Pass**: Compute gradients\n",
    "4. **Parameter Update**: Adjust network weights"
   ]
  },
  {
   "cell_type": "code",
   "execution_count": null,
   "id": "7ca25ae8",
   "metadata": {},
   "outputs": [],
   "source": [
    "import torch.optim as optim\n",
    "\n",
    "# Define loss function and optimizer\n",
    "criterion = nn.CrossEntropyLoss()\n",
    "optimizer = optim.Adam(model.parameters(), lr=0.001)\n",
    "\n",
    "# Training loop example\n",
    "def train(model, train_loader, criterion, optimizer, num_epochs):\n",
    "    for epoch in range(num_epochs):\n",
    "        model.train()\n",
    "        for batch_idx, (data, target) in enumerate(train_loader):\n",
    "            optimizer.zero_grad()\n",
    "            output = model(data)\n",
    "            loss = criterion(output, target)\n",
    "            loss.backward()\n",
    "            optimizer.step()\n",
    "            \n",
    "            if batch_idx % 100 == 0:\n",
    "                print(f'Epoch: {epoch}, Batch: {batch_idx}, Loss: {loss.item():.4f}')"
   ]
  }
 ],
 "metadata": {},
 "nbformat": 4,
 "nbformat_minor": 5
}
