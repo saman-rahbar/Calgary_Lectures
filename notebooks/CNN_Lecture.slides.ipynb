{
 "cells": [
  {
   "cell_type": "markdown",
   "id": "5f34e065",
   "metadata": {},
   "source": [
    "# Introduction to Convolutional Neural Networks\n",
    "---\n",
    "## University of Calgary\n",
    "### Dr. Saman Rahbar"
   ]
  },
  {
   "cell_type": "markdown",
   "id": "3c3da7be",
   "metadata": {},
   "source": [
    "# What are CNNs?\n",
    "---\n",
    "- Specialized neural networks for processing grid-like data\n",
    "- Particularly effective for image processing\n",
    "- Inspired by the visual cortex of animals"
   ]
  },
  {
   "cell_type": "markdown",
   "id": "ed075ae3",
   "metadata": {},
   "source": [
    "# CNN Architecture Components\n",
    "---\n",
    "1. Convolutional Layers\n",
    "2. Pooling Layers\n",
    "3. Activation Functions\n",
    "4. Fully Connected Layers"
   ]
  },
  {
   "cell_type": "markdown",
   "id": "0d72cd84",
   "metadata": {},
   "source": [
    "# How CNNs Work\n",
    "---\n",
    "- Convolution operation slides filters over input\n",
    "- Each filter learns to detect specific features\n",
    "- Pooling reduces spatial dimensions\n",
    "- Final layers make predictions"
   ]
  },
  {
   "cell_type": "markdown",
   "id": "a64a94ef",
   "metadata": {},
   "source": [
    "# CNNs vs Traditional Neural Networks\n",
    "---\n",
    "- CNNs preserve spatial relationships\n",
    "- Parameter sharing reduces complexity\n",
    "- Translation invariance\n",
    "- Hierarchical feature learning"
   ]
  },
  {
   "cell_type": "markdown",
   "id": "7d8ae846",
   "metadata": {},
   "source": [
    "# Implementation in PyTorch\n",
    "---\n",
    "```python\n",
    "class SimpleCNN(nn.Module):\n",
    "    def __init__(self):\n",
    "        super(SimpleCNN, self).__init__()\n",
    "        self.conv1 = nn.Conv2d(1, 16, 3)\n",
    "        self.pool = nn.MaxPool2d(2, 2)\n",
    "        self.fc1 = nn.Linear(16 * 5 * 5, 120)\n",
    "```\n"
   ]
  },
  {
   "cell_type": "markdown",
   "id": "851ff611",
   "metadata": {},
   "source": [
    "# Training Process\n",
    "---\n",
    "1. Forward Pass\n",
    "2. Loss Calculation\n",
    "3. Backward Pass\n",
    "4. Parameter Update"
   ]
  },
  {
   "cell_type": "markdown",
   "id": "471a1b8f",
   "metadata": {},
   "source": [
    "# Results and Visualization\n",
    "---\n",
    "- Model performance metrics\n",
    "- Feature map visualization\n",
    "- Confusion matrix\n",
    "- Learning curves"
   ]
  },
  {
   "cell_type": "markdown",
   "id": "d2772e02",
   "metadata": {},
   "source": [
    "# Summary\n",
    "---\n",
    "- Key concepts covered\n",
    "- Applications of CNNs\n",
    "- Future directions\n",
    "- Questions?"
   ]
  }
 ],
 "metadata": {},
 "nbformat": 4,
 "nbformat_minor": 5
}
