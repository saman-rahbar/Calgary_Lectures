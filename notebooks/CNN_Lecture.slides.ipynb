{
 "cells": [
  {
   "cell_type": "markdown",
   "id": "889dcd39",
   "metadata": {},
   "source": [
    "# Introduction to Convolutional Neural Networks\n",
    "---\n",
    "## University of Calgary\n",
    "### Saman Rahbar - Senior Applied Scientist"
   ]
  },
  {
   "cell_type": "markdown",
   "id": "0f3cc7e4",
   "metadata": {},
   "source": [
    "# What are CNNs?\n",
    "---\n",
    "- Specialized neural networks for processing grid-like data\n",
    "- Particularly effective for image processing\n",
    "- Inspired by the visual cortex of animals\n",
    "- State-of-the-art performance in computer vision tasks"
   ]
  },
  {
   "cell_type": "markdown",
   "id": "4a25bcd8",
   "metadata": {},
   "source": [
    "# CNN Architecture Components\n",
    "---\n",
    "1. **Convolutional Layers**\n",
    "   - Apply filters to detect features\n",
    "   - Learn hierarchical representations\n",
    "\n",
    "2. **Pooling Layers**\n",
    "   - Reduce spatial dimensions\n",
    "   - Provide translation invariance\n",
    "\n",
    "3. **Activation Functions**\n",
    "   - Introduce non-linearity\n",
    "   - Common choice: ReLU\n",
    "\n",
    "4. **Fully Connected Layers**\n",
    "   - Combine features\n",
    "   - Make final predictions"
   ]
  },
  {
   "cell_type": "markdown",
   "id": "1f1c5f04",
   "metadata": {},
   "source": [
    "# How CNNs Work\n",
    "---\n",
    "![MNIST Examples](results/plots/mnist_examples.png)\n",
    "\n",
    "- Convolution operation slides filters over input\n",
    "- Each filter learns to detect specific features\n",
    "- Pooling reduces spatial dimensions\n",
    "- Final layers make predictions"
   ]
  },
  {
   "cell_type": "markdown",
   "id": "69a75b1b",
   "metadata": {},
   "source": [
    "# Implementation in PyTorch\n",
    "---\n",
    "```python\n",
    "class SimpleCNN(nn.Module):\n",
    "    def __init__(self):\n",
    "        super(SimpleCNN, self).__init__()\n",
    "        self.conv1 = nn.Conv2d(1, 16, 3)\n",
    "        self.conv2 = nn.Conv2d(16, 32, 3)\n",
    "        self.pool = nn.MaxPool2d(2, 2)\n",
    "        self.fc1 = nn.Linear(32 * 7 * 7, 128)\n",
    "        self.fc2 = nn.Linear(128, 10)\n",
    "```"
   ]
  },
  {
   "cell_type": "markdown",
   "id": "8465e4ca",
   "metadata": {},
   "source": [
    "# Training Results\n",
    "---\n",
    "![Training History](results/plots/training_history.png)\n",
    "\n",
    "- Model converges quickly\n",
    "- High accuracy on test set\n",
    "- Good generalization"
   ]
  },
  {
   "cell_type": "markdown",
   "id": "cc82cfb1",
   "metadata": {},
   "source": [
    "# Model Performance\n",
    "---\n",
    "![Confusion Matrix](results/plots/confusion_matrix.png)\n",
    "\n",
    "- Strong performance across all classes\n",
    "- Few misclassifications\n",
    "- Robust predictions"
   ]
  },
  {
   "cell_type": "markdown",
   "id": "5447a963",
   "metadata": {},
   "source": [
    "# Model Predictions\n",
    "---\n",
    "![Model Predictions](results/plots/model_predictions.png)\n",
    "\n",
    "- Accurate predictions on test data\n",
    "- Handles various writing styles\n",
    "- Robust to noise"
   ]
  },
  {
   "cell_type": "markdown",
   "id": "fc6c9d91",
   "metadata": {},
   "source": [
    "# Summary\n",
    "---\n",
    "- CNNs are powerful tools for image processing\n",
    "- Key components work together effectively\n",
    "- Easy to implement with modern frameworks\n",
    "- Strong performance on real-world tasks\n",
    "\n",
    "## Questions?"
   ]
  }
 ],
 "metadata": {},
 "nbformat": 4,
 "nbformat_minor": 5
}
